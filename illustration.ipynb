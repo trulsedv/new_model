{
 "cells": [
  {
   "cell_type": "code",
   "execution_count": 27,
   "metadata": {},
   "outputs": [],
   "source": [
    "import matplotlib\n",
    "import matplotlib.pyplot as plt\n",
    "import numpy as np\n"
   ]
  },
  {
   "cell_type": "code",
   "execution_count": 2,
   "metadata": {
    "scrolled": true
   },
   "outputs": [
    {
     "data": {
      "text/plain": [
       "<matplotlib.collections.QuadMesh at 0xbf1ce90>"
      ]
     },
     "execution_count": 2,
     "metadata": {},
     "output_type": "execute_result"
    },
    {
     "data": {
      "image/png": "[encoded data removed]",
      "text/plain": [
       "<Figure size 432x288 with 1 Axes>"
      ]
     },
     "metadata": {
      "needs_background": "light"
     },
     "output_type": "display_data"
    }
   ],
   "source": [
    "Z = np.random.rand(6, 10)\n",
    "x = np.arange(-0.5, 10, 1)  # len = 11\n",
    "y = np.arange(4.5, 11, 1)  # len = 7\n",
    "\n",
    "fig, ax = plt.subplots()\n",
    "ax.pcolormesh(x, y, Z)"
   ]
  },
  {
   "cell_type": "code",
   "execution_count": 21,
   "metadata": {},
   "outputs": [
    {
     "data": {
      "text/plain": [
       "[0.49, 0.51, 0.49, 0.51, 0.49, 0.51, 0.49, 0.51, 0.49, 0.51]"
      ]
     },
     "execution_count": 21,
     "metadata": {},
     "output_type": "execute_result"
    }
   ],
   "source": [
    "max_iter = 10\n",
    "low = 0.49\n",
    "high = 0.51\n",
    "a = [v * low for v in (int(max_iter/2)*[1])]\n",
    "b = [v * high for v in (int(max_iter/2)*[1])]\n",
    "\n",
    "c = []\n",
    "for i, j in zip(a, b):\n",
    "    c.append(i)\n",
    "    c.append(j)\n",
    "c"
   ]
  },
  {
   "cell_type": "code",
   "execution_count": 73,
   "metadata": {
    "scrolled": true
   },
   "outputs": [
    {
     "data": {
      "text/plain": [
       "(-8, 8)"
      ]
     },
     "execution_count": 73,
     "metadata": {},
     "output_type": "execute_result"
    },
    {
     "data": {
      "image/png": "[encoded data removed]",
      "text/plain": [
       "<Figure size 432x288 with 1 Axes>"
      ]
     },
     "metadata": {
      "needs_background": "light"
     },
     "output_type": "display_data"
    }
   ],
   "source": [
    "nx = 10\n",
    "colorx = [16+3*(i%2) for i in range(nx)]\n",
    "colorx_lim = [i for i in range(nx+1)]\n",
    "ny = 2*8+1\n",
    "colory = [16+3*(i%2) for i in range(ny)]\n",
    "colory_lim = [i-8 for i in range(ny+1)]\n",
    "fix, ax= plt.subplots()\n",
    "\n",
    "cmap = matplotlib.cm.get_cmap('tab20c')\n",
    "for i, c in enumerate(colorx):\n",
    "    ax.axvspan(colorx_lim[i], colorx_lim[i+1], alpha=0.3, color=cmap.colors[c])\n",
    "for i, c in enumerate(colory):\n",
    "    ax.axhspan(colory_lim[i], colory_lim[i+1], alpha=0.3, color=cmap.colors[c])\n",
    "\n",
    "ax.set_xlim(0, nx)\n",
    "ax.set_ylim(-8, 8)"
   ]
  },
  {
   "cell_type": "code",
   "execution_count": 72,
   "metadata": {},
   "outputs": [
    {
     "data": {
      "text/plain": [
       "[16, 18, 16, 18, 16, 18, 16, 18, 16, 18, 16, 18, 16, 18, 16, 18, 16]"
      ]
     },
     "execution_count": 72,
     "metadata": {},
     "output_type": "execute_result"
    }
   ],
   "source": [
    "colory"
   ]
  }
 ],
 "metadata": {
  "kernelspec": {
   "display_name": "Python 3",
   "language": "python",
   "name": "python3"
  },
  "language_info": {
   "codemirror_mode": {
    "name": "ipython",
    "version": 3
   },
   "file_extension": ".py",
   "mimetype": "text/x-python",
   "name": "python",
   "nbconvert_exporter": "python",
   "pygments_lexer": "ipython3",
   "version": "3.7.3"
  }
 },
 "nbformat": 4,
 "nbformat_minor": 2
}
