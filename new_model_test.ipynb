{
 "cells": [
  {
   "cell_type": "code",
   "execution_count": 2,
   "metadata": {},
   "outputs": [],
   "source": [
    "import new_model as nm\n",
    "import math\n",
    "import time"
   ]
  },
  {
   "cell_type": "code",
   "execution_count": 3,
   "metadata": {},
   "outputs": [],
   "source": [
    "mean_hg = 2.94\n",
    "mean_ag = 0.63"
   ]
  },
  {
   "cell_type": "code",
   "execution_count": 4,
   "metadata": {},
   "outputs": [],
   "source": [
    "d = 0.00"
   ]
  },
  {
   "cell_type": "code",
   "execution_count": 7,
   "metadata": {},
   "outputs": [],
   "source": [
    "sum_max = 15"
   ]
  },
  {
   "cell_type": "code",
   "execution_count": null,
   "metadata": {},
   "outputs": [],
   "source": [
    "#for exp_n_iter in range(1,6):\n",
    "#    n_iter = 10**exp_n_iter\n",
    "#    print(\"Start calculations with {} iterations\".format(n_iter))\n",
    "#    p_hg = mean_hg / n_iter\n",
    "#    p_ag = mean_ag / n_iter\n",
    "#    dict_p = nm.get_prob_dict(p_hg, p_ag, d)\n",
    "#    dict_n = nm.get_probabilities_of_results_at_n(n_iter, sum_max, dict_p)\n",
    "#    dict_p_poisson = nm.get_dict_p_poisson(sum_max, mean_hg, mean_ag)\n",
    "#    (avg, diff) = nm.get_difference(dict_n, dict_p_poisson)\n",
    "#    print(\"Average difference {:.8f} %\".format(avg * 100))\n",
    "#    print(\"Maximum difference {:.8f} %\".format(diff * 100))"
   ]
  },
  {
   "cell_type": "code",
   "execution_count": 8,
   "metadata": {},
   "outputs": [
    {
     "name": "stdout",
     "output_type": "stream",
     "text": [
      "Iteration 100 of 1000, time 0.08\n",
      "Iteration 200 of 1000, time 0.16\n",
      "Iteration 300 of 1000, time 0.25\n",
      "Iteration 400 of 1000, time 0.34\n",
      "Iteration 500 of 1000, time 0.42\n",
      "Iteration 600 of 1000, time 0.51\n",
      "Iteration 700 of 1000, time 0.58\n",
      "Iteration 800 of 1000, time 0.68\n",
      "Iteration 900 of 1000, time 0.77\n",
      "Iteration 1000 of 1000, time 0.85\n",
      "0.8504323959350586 0.0\n"
     ]
    }
   ],
   "source": [
    "#n_iter = 10**3\n",
    "#p_hg = mean_hg / n_iter\n",
    "#p_ag = mean_ag / n_iter\n",
    "#dict_p = nm.get_prob_dict(p_hg, p_ag, d)\n",
    "#\n",
    "#t0 = time.time()\n",
    "#dict_n = nm.get_probabilities_of_results_at_n(n_iter, sum_max, dict_p)\n",
    "#t1 = time.time()\n",
    "#dict_p_poisson = nm.get_dict_p_poisson(sum_max, mean_hg, mean_ag)\n",
    "#t2 = time.time()\n",
    "#print(t1-t0, t2-t1)"
   ]
  },
  {
   "cell_type": "code",
   "execution_count": null,
   "metadata": {},
   "outputs": [],
   "source": []
  }
 ],
 "metadata": {
  "kernelspec": {
   "display_name": "Python 3",
   "language": "python",
   "name": "python3"
  },
  "language_info": {
   "codemirror_mode": {
    "name": "ipython",
    "version": 3
   },
   "file_extension": ".py",
   "mimetype": "text/x-python",
   "name": "python",
   "nbconvert_exporter": "python",
   "pygments_lexer": "ipython3",
   "version": "3.7.3"
  }
 },
 "nbformat": 4,
 "nbformat_minor": 2
}
