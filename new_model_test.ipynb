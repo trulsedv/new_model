{
 "cells": [
  {
   "cell_type": "code",
   "execution_count": 1,
   "metadata": {},
   "outputs": [],
   "source": [
    "import new_model as nm\n",
    "import math"
   ]
  },
  {
   "cell_type": "code",
   "execution_count": 2,
   "metadata": {},
   "outputs": [],
   "source": [
    "mean_hg = 2.94\n",
    "mean_ag = 0.63"
   ]
  },
  {
   "cell_type": "code",
   "execution_count": 3,
   "metadata": {},
   "outputs": [],
   "source": [
    "d = 0.00\n",
    "n_iter = 10000"
   ]
  },
  {
   "cell_type": "code",
   "execution_count": 4,
   "metadata": {},
   "outputs": [],
   "source": [
    "sum_max = 8"
   ]
  },
  {
   "cell_type": "code",
   "execution_count": 5,
   "metadata": {
    "scrolled": true
   },
   "outputs": [],
   "source": [
    "p_hg = mean_hg / n_iter\n",
    "p_ag = mean_ag / n_iter\n",
    "dict_p = nm.get_prob_dict(p_hg, p_ag, d)\n",
    "# nm.pretty(dict_p)"
   ]
  },
  {
   "cell_type": "code",
   "execution_count": 6,
   "metadata": {},
   "outputs": [
    {
     "name": "stdout",
     "output_type": "stream",
     "text": [
      "Iteration 1000, time 0.27\n",
      "Iteration 2000, time 0.54\n",
      "Iteration 3000, time 0.84\n",
      "Iteration 4000, time 1.11\n",
      "Iteration 5000, time 1.40\n",
      "Iteration 6000, time 1.65\n",
      "Iteration 7000, time 1.92\n",
      "Iteration 8000, time 2.20\n",
      "Iteration 9000, time 2.47\n",
      "Iteration 10000, time 2.74\n",
      "Done!\n"
     ]
    }
   ],
   "source": [
    "dict_n = nm.get_probabilities_of_results_at_n(n_iter, sum_max, dict_p)\n",
    "# nm.print_output(dict_n)\n",
    "# (sum_P, sum_nZP) = nm.calc_sums(dict_n)\n",
    "# print(sum_P)\n",
    "# print(sum_nZP/sum_P)"
   ]
  },
  {
   "cell_type": "code",
   "execution_count": 7,
   "metadata": {},
   "outputs": [],
   "source": [
    "def poisson_pmf(k, lam):\n",
    "    f = lam**k * math.exp(-lam) / math.factorial(k)\n",
    "    return f"
   ]
  },
  {
   "cell_type": "code",
   "execution_count": 8,
   "metadata": {},
   "outputs": [],
   "source": [
    "dict_p_poisson = {}\n",
    "for sum_g in range(min(n_iter, sum_max)+1):\n",
    "    for hg in range(sum_g + 1):\n",
    "        ag = sum_g - hg\n",
    "        p_hg = poisson_pmf(hg, mean_hg)\n",
    "        p_ag = poisson_pmf(ag, mean_ag)\n",
    "        dict_p_poisson[\"{}-{}\".format(hg,ag)] = {\"hg\": hg,\n",
    "                                                \"ag\": ag,\n",
    "                                                \"P\": p_hg * p_ag}\n",
    "# nm.pretty(dict_p_poisson)"
   ]
  },
  {
   "cell_type": "code",
   "execution_count": 9,
   "metadata": {
    "scrolled": true
   },
   "outputs": [
    {
     "name": "stdout",
     "output_type": "stream",
     "text": [
      "0 0 0.0281558537\n",
      "0 1 0.0177381878\n",
      "1 0 0.0827782098\n",
      "0 2 0.0055875292\n",
      "1 1 0.0521502722\n",
      "2 0 0.1216839684\n",
      "0 3 0.0011733811\n",
      "1 2 0.0164273357\n",
      "2 1 0.0766609001\n",
      "3 0 0.1192502891\n",
      "0 4 0.0001848075\n",
      "1 3 0.0034497405\n",
      "2 2 0.0241481835\n",
      "3 1 0.0751276821\n",
      "4 0 0.0876489625\n",
      "0 5 0.0000232857\n",
      "1 4 0.0005433341\n",
      "2 3 0.0050711185\n",
      "3 2 0.0236652199\n",
      "4 1 0.0552188464\n",
      "5 0 0.0515375899\n",
      "0 6 0.0000024450\n",
      "1 5 0.0000684601\n",
      "2 4 0.0007987012\n",
      "3 3 0.0049696962\n",
      "4 2 0.0173939366\n",
      "5 1 0.0324686817\n",
      "6 0 0.0252534191\n",
      "0 7 0.0000002201\n",
      "1 6 0.0000071883\n",
      "2 5 0.0001006363\n",
      "3 4 0.0007827271\n",
      "4 3 0.0036527267\n",
      "5 2 0.0102276347\n",
      "6 1 0.0159096540\n",
      "7 0 0.0106064360\n",
      "0 8 0.0000000173\n",
      "1 7 0.0000006469\n",
      "2 6 0.0000105668\n",
      "3 5 0.0000986236\n",
      "4 4 0.0005753045\n",
      "5 3 0.0021478033\n",
      "6 2 0.0050115410\n",
      "7 1 0.0066820547\n",
      "8 0 0.0038978652\n"
     ]
    }
   ],
   "source": [
    "nm.print_output(dict_p_poisson)"
   ]
  },
  {
   "cell_type": "code",
   "execution_count": 10,
   "metadata": {
    "scrolled": true
   },
   "outputs": [
    {
     "name": "stdout",
     "output_type": "stream",
     "text": [
      "0 0 0.0281379130\n",
      "0 1 0.0177332159\n",
      "1 0 0.0827550076\n",
      "0 2 0.0055873991\n",
      "1 1 0.0521490584\n",
      "2 0 0.1216811364\n",
      "0 3 0.0011735381\n",
      "1 2 0.0164295334\n",
      "2 1 0.0766711557\n",
      "3 0 0.1192662422\n",
      "0 4 0.0001848428\n",
      "1 3 0.0034503987\n",
      "2 2 0.0241527912\n",
      "3 1 0.0751420170\n",
      "4 0 0.0876656865\n",
      "0 5 0.0000232892\n",
      "1 4 0.0005434144\n",
      "2 3 0.0050718680\n",
      "3 2 0.0236687172\n",
      "4 1 0.0552270068\n",
      "5 0 0.0515452063\n",
      "0 6 0.0000024450\n",
      "1 5 0.0000684604\n",
      "2 4 0.0007987049\n",
      "3 3 0.0049697196\n",
      "4 2 0.0173940185\n",
      "5 1 0.0324688346\n",
      "6 0 0.0252535380\n",
      "0 7 0.0000002200\n",
      "1 6 0.0000071866\n",
      "2 5 0.0001006124\n",
      "3 4 0.0007825406\n",
      "4 3 0.0036518560\n",
      "5 2 0.0102251967\n",
      "6 1 0.0159058615\n",
      "7 0 0.0106039077\n",
      "0 8 0.0000000173\n",
      "1 7 0.0000006466\n",
      "2 6 0.0000105607\n",
      "3 5 0.0000985663\n",
      "4 4 0.0005749700\n",
      "5 3 0.0021465545\n",
      "6 2 0.0050086272\n",
      "7 1 0.0066781696\n",
      "8 0 0.0038955989\n"
     ]
    }
   ],
   "source": [
    "nm.print_output(dict_n)"
   ]
  },
  {
   "cell_type": "code",
   "execution_count": null,
   "metadata": {},
   "outputs": [],
   "source": []
  }
 ],
 "metadata": {
  "kernelspec": {
   "display_name": "Python 3",
   "language": "python",
   "name": "python3"
  },
  "language_info": {
   "codemirror_mode": {
    "name": "ipython",
    "version": 3
   },
   "file_extension": ".py",
   "mimetype": "text/x-python",
   "name": "python",
   "nbconvert_exporter": "python",
   "pygments_lexer": "ipython3",
   "version": "3.7.3"
  }
 },
 "nbformat": 4,
 "nbformat_minor": 2
}
