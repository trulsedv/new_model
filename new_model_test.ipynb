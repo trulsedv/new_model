{
 "cells": [
  {
   "cell_type": "code",
   "execution_count": 1,
   "metadata": {},
   "outputs": [],
   "source": [
    "import new_model as nm\n",
    "import math"
   ]
  },
  {
   "cell_type": "code",
   "execution_count": 2,
   "metadata": {},
   "outputs": [],
   "source": [
    "mean_hg = 2.94\n",
    "mean_ag = 0.63"
   ]
  },
  {
   "cell_type": "code",
   "execution_count": 3,
   "metadata": {},
   "outputs": [],
   "source": [
    "d = 0.00"
   ]
  },
  {
   "cell_type": "code",
   "execution_count": 4,
   "metadata": {},
   "outputs": [],
   "source": [
    "sum_max = 8"
   ]
  },
  {
   "cell_type": "code",
   "execution_count": null,
   "metadata": {},
   "outputs": [],
   "source": []
  },
  {
   "cell_type": "code",
   "execution_count": 27,
   "metadata": {},
   "outputs": [],
   "source": [
    "def get_difference(dict_n, dict_p_poisson):\n",
    "    avg0 = 0\n",
    "    diff0 = 0\n",
    "    n = len(dict_n.keys()) - 1\n",
    "    for key in dict_n.keys():\n",
    "        if key == \"n\":\n",
    "            continue\n",
    "        diff = abs(dict_n[key][\"P\"] - dict_p_poisson[key][\"P\"])\n",
    "        avg0 = avg0 + diff\n",
    "        if diff > diff0:\n",
    "            diff0 = diff\n",
    "    return avg0 / n, diff0"
   ]
  },
  {
   "cell_type": "code",
   "execution_count": 34,
   "metadata": {},
   "outputs": [
    {
     "name": "stdout",
     "output_type": "stream",
     "text": [
      "Iteration 1, time 0.00\n",
      "Iteration 2, time 0.00\n",
      "Iteration 3, time 0.00\n",
      "Iteration 4, time 0.00\n",
      "Iteration 5, time 0.00\n",
      "Iteration 6, time 0.00\n",
      "Iteration 7, time 0.01\n",
      "Iteration 8, time 0.01\n",
      "Iteration 9, time 0.01\n",
      "Iteration 10, time 0.01\n",
      "Done!\n",
      "Average difference 0.464233 %\n",
      "Maximum difference 2.753917 %\n",
      "Iteration 10, time 0.00\n",
      "Iteration 20, time 0.01\n",
      "Iteration 30, time 0.01\n",
      "Iteration 40, time 0.01\n",
      "Iteration 50, time 0.02\n",
      "Iteration 60, time 0.02\n",
      "Iteration 70, time 0.02\n",
      "Iteration 80, time 0.03\n",
      "Iteration 90, time 0.03\n",
      "Iteration 100, time 0.03\n",
      "Done!\n",
      "Average difference 0.035449 %\n",
      "Maximum difference 0.236047 %\n",
      "Iteration 100, time 0.02\n",
      "Iteration 200, time 0.05\n",
      "Iteration 300, time 0.08\n",
      "Iteration 400, time 0.10\n",
      "Iteration 500, time 0.13\n",
      "Iteration 600, time 0.16\n",
      "Iteration 700, time 0.18\n",
      "Iteration 800, time 0.21\n",
      "Iteration 900, time 0.23\n",
      "Iteration 1000, time 0.26\n",
      "Done!\n",
      "Average difference 0.003479 %\n",
      "Maximum difference 0.023239 %\n",
      "Iteration 1000, time 0.25\n",
      "Iteration 2000, time 0.51\n",
      "Iteration 3000, time 0.77\n",
      "Iteration 4000, time 1.03\n",
      "Iteration 5000, time 1.28\n",
      "Iteration 6000, time 1.54\n",
      "Iteration 7000, time 1.80\n",
      "Iteration 8000, time 2.06\n",
      "Iteration 9000, time 2.32\n",
      "Iteration 10000, time 2.57\n",
      "Done!\n",
      "Average difference 0.000347 %\n",
      "Maximum difference 0.002320 %\n",
      "Iteration 10000, time 2.57\n",
      "Iteration 20000, time 5.12\n",
      "Iteration 30000, time 7.63\n",
      "Iteration 40000, time 10.21\n",
      "Iteration 50000, time 12.74\n",
      "Iteration 60000, time 15.25\n",
      "Iteration 70000, time 17.75\n",
      "Iteration 80000, time 20.39\n",
      "Iteration 90000, time 23.02\n",
      "Iteration 100000, time 25.61\n",
      "Done!\n",
      "Average difference 0.000035 %\n",
      "Maximum difference 0.000232 %\n"
     ]
    }
   ],
   "source": [
    "for exp_n_iter in range(1,6):\n",
    "    n_iter = 10**exp_n_iter\n",
    "    p_hg = mean_hg / n_iter\n",
    "    p_ag = mean_ag / n_iter\n",
    "    dict_p = nm.get_prob_dict(p_hg, p_ag, d)\n",
    "    dict_n = nm.get_probabilities_of_results_at_n(n_iter, sum_max, dict_p)\n",
    "    dict_p_poisson = nm.get_dict_p_poisson(sum_max, mean_hg, mean_ag)\n",
    "    (avg, diff) = get_difference(dict_n, dict_p_poisson)\n",
    "    print(\"Average difference {:.6f} %\".format(avg * 100))\n",
    "    print(\"Maximum difference {:.6f} %\".format(diff * 100))"
   ]
  }
 ],
 "metadata": {
  "kernelspec": {
   "display_name": "Python 3",
   "language": "python",
   "name": "python3"
  },
  "language_info": {
   "codemirror_mode": {
    "name": "ipython",
    "version": 3
   },
   "file_extension": ".py",
   "mimetype": "text/x-python",
   "name": "python",
   "nbconvert_exporter": "python",
   "pygments_lexer": "ipython3",
   "version": "3.7.3"
  }
 },
 "nbformat": 4,
 "nbformat_minor": 2
}
